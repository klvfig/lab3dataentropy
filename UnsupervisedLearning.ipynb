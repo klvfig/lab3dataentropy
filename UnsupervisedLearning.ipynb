{
    "metadata": {
        "kernelspec": {
            "name": "python3",
            "display_name": "Python 3 (ipykernel)",
            "language": "python"
        }
    },
    "nbformat": 4,
    "nbformat_minor": 2,
    "cells": [
        {
            "attachments": {},
            "cell_type": "markdown",
            "metadata": {},
            "source": [
                "# **Unsupervised Learning with K-Means Clustering**"
            ]
        },
        {
            "attachments": {},
            "cell_type": "markdown",
            "metadata": {},
            "source": [
                "In this lab, you will get an introduction to unsupervised learning by solving a clustering problem using **K-Means Clustering**.\n",
                "\n",
                "\n",
                "\n",
                "\n",
                "\n",
                "Please open [this tutorial](https://youtu.be/EItlUEPCIzM) to follow the steps in this notebook.This is a 25 minutes tutorial, in which you will learn how to determine the number of clusters needed for a data set and how to use the K-Means method for clustering.\n",
                "\n",
                "\n",
                "\n",
                "**Saturn shortcuts**\n",
                "\n",
                "Press *Ctrl+return* to run each section separately. Please note that some sections depend on the previous sections, and run them in order. You can run the whole program at once, buy clicking the *Run All* button.\n",
                "\n",
                "---"
            ]
        },
        {
            "attachments": {},
            "cell_type": "markdown",
            "metadata": {},
            "source": [
                "# Theory: The K-Means algorithm"
            ]
        },
        {
            "attachments": {},
            "cell_type": "markdown",
            "metadata": {},
            "source": [
                "\n",
                "\n",
                "0. Set *K*, the value that determines the number of clusters to be created\n",
                "1. Start with *K* centroids by putting them at a random place\n",
                "2. Compute distance of every point from centroid and cluster the points accordingly\n",
                "3. Adjust centroids so that they become center of gravity for their cluster\n",
                "4. Re-cluster every point based on their distance to the centroid\n",
                "5. Readjust centroids to make them the center of gravity\n",
                "6. Recompute clusters and repeat this till data points stop changing clusters\n",
                ""
            ]
        },
        {
            "attachments": {},
            "cell_type": "markdown",
            "metadata": {},
            "source": [
                "***Check point***\n",
                "\n",
                "What's the name of the algorithm commony used to determine the value of K?"
            ]
        },
        {
            "attachments": {},
            "cell_type": "markdown",
            "metadata": {},
            "source": [
                ""
            ]
        },
        {
            "attachments": {},
            "cell_type": "markdown",
            "metadata": {},
            "source": [
                "\n",
                "\n",
                "---\n",
                "\n",
                "\n",
                "# Practice: Clustering a data set"
            ]
        },
        {
            "attachments": {},
            "cell_type": "markdown",
            "metadata": {},
            "source": [
                "The data set in the tutorial contains age and income information of a given population.\n",
                "\n",
                "The data file, *income.csv* is provided for you in this directory."
            ]
        },
        {
            "attachments": {},
            "cell_type": "markdown",
            "metadata": {},
            "source": [
                "# Import packages"
            ]
        },
        {
            "cell_type": "code",
            "execution_count": 1,
            "metadata": {},
            "outputs": [],
            "source": [
                "# Importing packages needed in this code, from sklearn, pandas, and matplotlib\n",
                "# ---------------------------------------------------------------------------- #\n",
                "from sklearn.cluster import KMeans\n",
                "import pandas as pd\n",
                "from sklearn.preprocessing import MinMaxScaler\n",
                "from matplotlib import pyplot as plt\n",
                "%matplotlib inline"
            ]
        },
        {
            "attachments": {},
            "cell_type": "markdown",
            "metadata": {},
            "source": [
                "# Explore the data set"
            ]
        },
        {
            "attachments": {},
            "cell_type": "markdown",
            "metadata": {},
            "source": [
                "1. Read in the data set"
            ]
        },
        {
            "cell_type": "code",
            "execution_count": 2,
            "metadata": {},
            "outputs": [],
            "source": [
                "# Using pandas to read in the input file, income.csv saved under UnsupervisedLearning.\n",
                "# The data file is saved in the variable 'df'\n",
                "df = pd.read_csv('UnsupervisedLearning/income.csv')\n",
                "\n",
                "#TODO: Write code to inspect the first five rows of the data set by using the head function \n",
                ""
            ]
        },
        {
            "attachments": {},
            "cell_type": "markdown",
            "metadata": {},
            "source": [
                "2. Plot data on a scatter plot"
            ]
        },
        {
            "cell_type": "code",
            "execution_count": 3,
            "metadata": {},
            "outputs": [],
            "source": [
                "# Generate a scatter plot of age and income\n",
                "plt.scatter(df.Age,df['Income($)'])"
            ]
        },
        {
            "attachments": {},
            "cell_type": "markdown",
            "metadata": {},
            "source": [
                "# Fit and predict three clusters for the data"
            ]
        },
        {
            "cell_type": "code",
            "execution_count": 4,
            "metadata": {},
            "outputs": [],
            "source": [
                "# Define a KMeans object with 3 as the value of k. Call the object km\n",
                "km = KMeans(n_clusters=3)\n",
                "\n",
                "#TODO: Write code to inspect km to see all the default parameters that we didn't have to specify\n",
                ""
            ]
        },
        {
            "cell_type": "code",
            "execution_count": 1,
            "metadata": {},
            "outputs": [],
            "source": [
                "# Predict the data set excluding the name column. \n",
                "# Save the prediction in an array and call it y_predicted\n",
                "y_predicted = km.fit_predict(df[['Age','Income($)']])\n",
                "\n",
                "# Visualize the array. \n",
                "# Notice that every element is assigned one of the three cluster IDs: 0, 1, or 2\n",
                "y_predicted"
            ]
        },
        {
            "attachments": {},
            "cell_type": "markdown",
            "metadata": {},
            "source": [
                "Printing out the y_predicted array is not the best way to visualize the clustering. A better option would be to plot the clusters."
            ]
        },
        {
            "cell_type": "code",
            "execution_count": 0,
            "metadata": {},
            "outputs": [],
            "source": [
                "# Add a column to the data frame to store the predicted cluster ID of each element\n",
                "df['cluster'] = y_predicted\n",
                "\n",
                "#TODO: Write code to inspect the first five rows of the data set by using the head() function\n",
                ""
            ]
        },
        {
            "attachments": {},
            "cell_type": "markdown",
            "metadata": {},
            "source": [
                "Plot the clusters"
            ]
        },
        {
            "cell_type": "code",
            "execution_count": 7,
            "metadata": {},
            "outputs": [],
            "source": [
                "# Define the three data frames, df1, df2, df3, each belonging to one of the three clusters\n",
                "df1 = df[df.cluster==0]\n",
                "df2 = df[df.cluster==1]\n",
                "df3 = df[df.cluster==2]\n",
                "\n",
                "# Plot the data frames with different colors to differentiate them\n",
                "plt.scatter(df1.Age,df1['Income($)'],color='green')\n",
                "plt.scatter(df2.Age,df2['Income($)'],color='red')\n",
                "plt.scatter(df3.Age,df3['Income($)'],color='black')\n",
                "\n",
                "# Define the labels on the x and y axes\n",
                "plt.xlabel('Age')\n",
                "plt.ylabel('Income ($)')\n",
                "\n",
                "# Plot the legend\n",
                "plt.legend()"
            ]
        },
        {
            "attachments": {},
            "cell_type": "markdown",
            "metadata": {},
            "source": [
                "Due to scaling, cluster 1 and 2 were not clusteried correctly. To correct this, we get to use the *MinMaxScaler* algorithm to normalize the data."
            ]
        },
        {
            "cell_type": "code",
            "execution_count": 8,
            "metadata": {},
            "outputs": [],
            "source": [
                "# Define the MinMaxScaler object and save in a variable called scaler\n",
                "scaler = MinMaxScaler()\n",
                "\n",
                "# Scale the income feature\n",
                "scaler.fit(df[['Income($)']])\n",
                "df['Income($)'] = scaler.transform(df[['Income($)']])\n",
                "\n",
                "# Scale the age feature\n",
                "scaler.fit(df[['Age']])\n",
                "df['Age'] = scaler.transform(df[['Age']])\n",
                "\n",
                "#TODO: Write code to inspect the scaled values of age and income.\n",
                "# Notice that all the values are between 0 and 1\n",
                ""
            ]
        },
        {
            "attachments": {},
            "cell_type": "markdown",
            "metadata": {},
            "source": [
                "With the scaled values in df, we can repeat the steps to fit and predict the data set."
            ]
        },
        {
            "cell_type": "code",
            "execution_count": 11,
            "metadata": {},
            "outputs": [],
            "source": [
                "# Define a KMeans object with 3 as the value of k. Call the object km\n",
                "km = KMeans(n_clusters=3)\n",
                "\n",
                "# Predict the data set excluding the name column. \n",
                "# Save the prediction in an array and call it y_predicted\n",
                "y_predicted = km.fit_predict(df[['Age','Income($)']])\n",
                "\n",
                "# Visualize the array.\n",
                "y_predicted"
            ]
        },
        {
            "cell_type": "code",
            "execution_count": 0,
            "metadata": {},
            "outputs": [],
            "source": [
                "# Add a column to the data frame to store the predicted cluster ID of each element\n",
                "df['cluster'] = y_predicted\n",
                "\n",
                "#TODO: Write code to inspect the first five rows of the data set by using the head() function\n",
                ""
            ]
        },
        {
            "cell_type": "code",
            "execution_count": 0,
            "metadata": {},
            "outputs": [],
            "source": [
                "# Define the three data frames, df1, df2, df3, each belonging to one of the three clusters\n",
                "df1 = df[df.cluster==0]\n",
                "df2 = df[df.cluster==1]\n",
                "df3 = df[df.cluster==2]\n",
                "\n",
                "# Plot the data frames with different colors to differentiate them\n",
                "plt.scatter(df1.Age,df1['Income($)'],color='green')\n",
                "plt.scatter(df2.Age,df2['Income($)'],color='red')\n",
                "plt.scatter(df3.Age,df3['Income($)'],color='black')\n",
                "\n",
                "# Define the labels on the x and y axes\n",
                "plt.xlabel('Age')\n",
                "plt.ylabel('Income ($)')\n",
                "\n",
                "# Plot the legend\n",
                "plt.legend()"
            ]
        },
        {
            "attachments": {},
            "cell_type": "markdown",
            "metadata": {},
            "source": [
                "Add the cluster centroids to to the plot"
            ]
        },
        {
            "cell_type": "code",
            "execution_count": 0,
            "metadata": {},
            "outputs": [],
            "source": [
                "# Inspect the cluster centroids which are saved inside cluster_centers_ \n",
                "km.cluster_centers_"
            ]
        },
        {
            "cell_type": "code",
            "execution_count": 0,
            "metadata": {},
            "outputs": [],
            "source": [
                "# Define the three data frames, df1, df2, df3, each belonging to one of the three clusters\n",
                "df1 = df[df.cluster==0]\n",
                "df2 = df[df.cluster==1]\n",
                "df3 = df[df.cluster==2]\n",
                "\n",
                "# Plot the data frames with different colors to differentiate them\n",
                "plt.scatter(df1.Age,df1['Income($)'],color='green')\n",
                "plt.scatter(df2.Age,df2['Income($)'],color='red')\n",
                "plt.scatter(df3.Age,df3['Income($)'],color='black')\n",
                "\n",
                "# Add the centroids to the plot\n",
                "plt.scatter(km.cluster_centers_[:,0],km.cluster_centers_[:,1],color='purple',marker='*',label='centroid')\n",
                "# Plot the legend\n",
                "plt.legend()"
            ]
        },
        {
            "attachments": {},
            "cell_type": "markdown",
            "metadata": {},
            "source": [
                "# The elbow method"
            ]
        },
        {
            "cell_type": "code",
            "execution_count": 15,
            "metadata": {},
            "outputs": [],
            "source": [
                "# Define a range for possible k values. In this example, we choose 1 to 10\n",
                "k_rng = range(1,10)\n",
                "\n",
                "# Declare an array to store the values from the sum of squared error values.\n",
                "sse = []\n",
                "\n",
                "# Using a for loop, go through each value in the k range and compute the sse value\n",
                "for k in k_rng:\n",
                "    km = KMeans(n_clusters=k)\n",
                "    km.fit(df[['Age','Income($)']])\n",
                "    sse.append(km.inertia_)\n",
                "\n",
                "# Plot the sse value for each k.\n",
                "# Notice that 3 is the elbow value.\n",
                "plt.xlabel('K')\n",
                "plt.ylabel('Sum of squared error')\n",
                "plt.plot(k_rng,sse)"
            ]
        },
        {
            "attachments": {},
            "cell_type": "markdown",
            "metadata": {},
            "source": [
                "# Earn Your Wings: The iris flower\n",
                "\n",
                "![alt text](https://raw.githubusercontent.com/codebasics/py/master/ML/13_kmeans/iris.png)\n",
                "\n",
                "\n",
                "Use iris flower dataset from sklearn library and try to form clusters of flowers using petal width and length features. Drop other two features for simplicity.\n",
                "\n",
                "Figure out if any preprocessing such as scaling would help here.\n",
                "\n",
                "Draw elbow plot and from that figure out optimal value of k"
            ]
        }
    ]
}
